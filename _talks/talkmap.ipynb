{
 "cells": [
  {
   "cell_type": "markdown",
   "metadata": {},
   "source": [
    "# Leaflet cluster map of talk locations\n",
    "\n",
    "Run this from the _talks/ directory, which contains .md files of all your talks. This scrapes the location YAML field from each .md file, geolocates it with geopy/Nominatim, and uses the getorg library to output data, HTML, and Javascript for a standalone cluster map."
   ]
  },
  {
   "cell_type": "code",
   "execution_count": 1,
   "metadata": {
    "collapsed": false
   },
   "outputs": [
    {
     "name": "stdout",
     "output_type": "stream",
     "text": [
      "Requirement already satisfied: getorg in /Users/davidpelosi/Library/Python/3.13/lib/python/site-packages (0.3.1)\n",
      "Requirement already satisfied: geopy in /Users/davidpelosi/Library/Python/3.13/lib/python/site-packages (from getorg) (2.4.1)\n",
      "Requirement already satisfied: pygithub in /Users/davidpelosi/Library/Python/3.13/lib/python/site-packages (from getorg) (2.8.1)\n",
      "Requirement already satisfied: retrying in /Users/davidpelosi/Library/Python/3.13/lib/python/site-packages (from getorg) (1.4.2)\n",
      "Requirement already satisfied: geographiclib<3,>=1.52 in /Users/davidpelosi/Library/Python/3.13/lib/python/site-packages (from geopy->getorg) (2.1)\n",
      "Requirement already satisfied: pynacl>=1.4.0 in /Users/davidpelosi/Library/Python/3.13/lib/python/site-packages (from pygithub->getorg) (1.6.0)\n",
      "Requirement already satisfied: requests>=2.14.0 in /Users/davidpelosi/Library/Python/3.13/lib/python/site-packages (from pygithub->getorg) (2.32.3)\n",
      "Requirement already satisfied: pyjwt>=2.4.0 in /Users/davidpelosi/Library/Python/3.13/lib/python/site-packages (from pyjwt[crypto]>=2.4.0->pygithub->getorg) (2.10.1)\n",
      "Requirement already satisfied: typing-extensions>=4.5.0 in /Users/davidpelosi/Library/Python/3.13/lib/python/site-packages (from pygithub->getorg) (4.14.1)\n",
      "Requirement already satisfied: urllib3>=1.26.0 in /Users/davidpelosi/Library/Python/3.13/lib/python/site-packages (from pygithub->getorg) (2.4.0)\n",
      "Requirement already satisfied: cryptography>=3.4.0 in /Users/davidpelosi/Library/Python/3.13/lib/python/site-packages (from pyjwt[crypto]>=2.4.0->pygithub->getorg) (46.0.3)\n",
      "Requirement already satisfied: cffi>=2.0.0 in /Users/davidpelosi/Library/Python/3.13/lib/python/site-packages (from cryptography>=3.4.0->pyjwt[crypto]>=2.4.0->pygithub->getorg) (2.0.0)\n",
      "Requirement already satisfied: pycparser in /Users/davidpelosi/Library/Python/3.13/lib/python/site-packages (from cffi>=2.0.0->cryptography>=3.4.0->pyjwt[crypto]>=2.4.0->pygithub->getorg) (2.23)\n",
      "Requirement already satisfied: charset-normalizer<4,>=2 in /Users/davidpelosi/Library/Python/3.13/lib/python/site-packages (from requests>=2.14.0->pygithub->getorg) (3.4.2)\n",
      "Requirement already satisfied: idna<4,>=2.5 in /Users/davidpelosi/Library/Python/3.13/lib/python/site-packages (from requests>=2.14.0->pygithub->getorg) (3.10)\n",
      "Requirement already satisfied: certifi>=2017.4.17 in /Users/davidpelosi/Library/Python/3.13/lib/python/site-packages (from requests>=2.14.0->pygithub->getorg) (2025.4.26)\n",
      "IPywidgets and ipyleaflet support enabled.\n"
     ]
    }
   ],
   "source": [
    "!pip3 install getorg --upgrade\n",
    "import glob\n",
    "import getorg\n",
    "from geopy import Nominatim"
   ]
  },
  {
   "cell_type": "code",
   "execution_count": 2,
   "metadata": {
    "collapsed": false
   },
   "outputs": [],
   "source": [
    "g = glob.glob(\"*.md\")"
   ]
  },
  {
   "cell_type": "code",
   "execution_count": 3,
   "metadata": {
    "collapsed": true
   },
   "outputs": [],
   "source": [
    "geocoder = Nominatim(user_agent=\"david\")\n",
    "location_dict = {}\n",
    "location = \"\"\n",
    "permalink = \"/talks/\"\n",
    "title = \"\""
   ]
  },
  {
   "cell_type": "code",
   "execution_count": 4,
   "metadata": {
    "collapsed": false
   },
   "outputs": [
    {
     "name": "stdout",
     "output_type": "stream",
     "text": [
      "Salerno, Italy \n",
      " Salerno, Campania, Italia\n",
      "Paestum, Italy \n",
      " Paestum, Via Porta Giustizia, Paestum, Capaccio Paestum, Salerno, Campania, 84047, Italia\n",
      "Umeå, Sweden \n",
      " Umeå, Umeå kommun, Västerbottens län, Sverige\n",
      "Berlin, Germany \n",
      " Berlin, Deutschland\n",
      "Noordwijk, Netherlands \n",
      " Noordwijk, Zuid-Holland, Nederland\n",
      "Darmstadt, Germany \n",
      " Darmstadt, Hessen, Deutschland\n",
      "Dubrovnik, Croatia \n",
      " Grad Dubrovnik, Dubrovačko-neretvanska županija, Hrvatska\n",
      "Bertinoro, Italy \n",
      " Bertinoro, Unione di Comuni della Romagna Forlivese, Forlì-Cesena, Emilia-Romagna, 47032, Italia\n",
      "Rome, Italy \n",
      " Roma, Roma Capitale, Lazio, Italia\n",
      "Oulu, Finland \n",
      " Oulu, Oulun seutukunta, Pohjois-Pohjanmaa, Manner-Suomi, Suomi / Finland\n",
      "Geneva, Switzerland \n",
      " Genève, Schweiz/Suisse/Svizzera/Svizra\n",
      "Vienna, Austria \n",
      " Wien, Österreich\n",
      " \n",
      " None\n",
      "Perugia, Italy \n",
      " Perugia, Umbria, Italia\n",
      "Frascati, Italy \n",
      " Frascati, Roma Capitale, Lazio, 00044, Italia\n"
     ]
    }
   ],
   "source": [
    "\n",
    "for file in g:\n",
    "    with open(file, 'r') as f:\n",
    "        lines = f.read()\n",
    "        if lines.find('location: \"') > 1:\n",
    "            loc_start = lines.find('location: \"') + 11\n",
    "            lines_trim = lines[loc_start:]\n",
    "            loc_end = lines_trim.find('\"')\n",
    "            location = lines_trim[:loc_end]\n",
    "                            \n",
    "           \n",
    "        location_dict[location] = geocoder.geocode(location)\n",
    "        print(location, \"\\n\", location_dict[location])\n"
   ]
  },
  {
   "cell_type": "code",
   "execution_count": 5,
   "metadata": {
    "collapsed": false
   },
   "outputs": [
    {
     "data": {
      "text/plain": [
       "'Written map to ../talkmap/'"
      ]
     },
     "execution_count": 5,
     "metadata": {},
     "output_type": "execute_result"
    }
   ],
   "source": [
    "m = getorg.orgmap.create_map_obj()\n",
    "getorg.orgmap.output_html_cluster_map(location_dict, folder_name=\"../talkmap\", hashed_usernames=False)"
   ]
  },
  {
   "cell_type": "code",
   "execution_count": null,
   "metadata": {
    "collapsed": true
   },
   "outputs": [],
   "source": []
  }
 ],
 "metadata": {
  "anaconda-cloud": {},
  "kernelspec": {
   "display_name": "Python 3",
   "language": "python",
   "name": "python3"
  },
  "language_info": {
   "codemirror_mode": {
    "name": "ipython",
    "version": 3
   },
   "file_extension": ".py",
   "mimetype": "text/x-python",
   "name": "python",
   "nbconvert_exporter": "python",
   "pygments_lexer": "ipython3",
   "version": "3.13.3"
  }
 },
 "nbformat": 4,
 "nbformat_minor": 0
}
